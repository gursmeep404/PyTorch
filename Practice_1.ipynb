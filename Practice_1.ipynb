{
  "nbformat": 4,
  "nbformat_minor": 0,
  "metadata": {
    "colab": {
      "provenance": [],
      "gpuType": "T4"
    },
    "kernelspec": {
      "name": "python3",
      "display_name": "Python 3"
    },
    "language_info": {
      "name": "python"
    },
    "accelerator": "GPU"
  },
  "cells": [
    {
      "cell_type": "code",
      "execution_count": 1,
      "metadata": {
        "id": "V9g5Woor4qn0"
      },
      "outputs": [],
      "source": [
        "import torch"
      ]
    },
    {
      "cell_type": "markdown",
      "source": [
        "# Something for my understanding :\n",
        "1. Tensor is n-d array\n",
        "2. 0d -> scalar, 1d -> vector, 2d -> matrix and so on\n",
        "3. Dimension of a tensor can be visualised till 3d. In general look at the number of brackets\n",
        "4. Shape is number of elements in each dimension\n",
        "5. Ways to create a tensor: Initialise all elements, tensor.rand(shape), torch.zeros(shape), torch.ones(shape), torch.arange(start, end, step)\n",
        "6. Size is total number of elemets in the tensor. Multiply all numbers in shape to get size"
      ],
      "metadata": {
        "id": "F9K0C4xvgM1F"
      }
    },
    {
      "cell_type": "markdown",
      "source": [
        "## 1. Create a random tensor with shape `(7, 7)`."
      ],
      "metadata": {
        "id": "Q8RiTmfCdKbz"
      }
    },
    {
      "cell_type": "code",
      "source": [
        "x = torch.rand(7,7)\n",
        "x, x.shape"
      ],
      "metadata": {
        "colab": {
          "base_uri": "https://localhost:8080/"
        },
        "id": "Kd27qqOAdTgl",
        "outputId": "ad9c7a50-3d92-4907-c60c-a52dfa28727b"
      },
      "execution_count": 7,
      "outputs": [
        {
          "output_type": "execute_result",
          "data": {
            "text/plain": [
              "(tensor([[0.3608, 0.0056, 0.9398, 0.8853, 0.5824, 0.5488, 0.3286],\n",
              "         [0.3096, 0.1987, 0.7298, 0.1787, 0.7006, 0.4970, 0.5974],\n",
              "         [0.1271, 0.8612, 0.8355, 0.0797, 0.1651, 0.6511, 0.1951],\n",
              "         [0.8279, 0.9361, 0.6085, 0.6848, 0.4732, 0.1058, 0.3157],\n",
              "         [0.2225, 0.0289, 0.0577, 0.5954, 0.9983, 0.3560, 0.3640],\n",
              "         [0.7914, 0.9577, 0.5893, 0.3801, 0.0469, 0.1029, 0.1669],\n",
              "         [0.6814, 0.7330, 0.2794, 0.3266, 0.6717, 0.8874, 0.2114]]),\n",
              " torch.Size([7, 7]))"
            ]
          },
          "metadata": {},
          "execution_count": 7
        }
      ]
    },
    {
      "cell_type": "markdown",
      "source": [
        "## 2. Perform a matrix multiplication on the tensor from above with another random tensor with shape (1, 7)"
      ],
      "metadata": {
        "id": "mDkvwgl5dXsD"
      }
    },
    {
      "cell_type": "code",
      "source": [
        "y = torch.rand(1,7)\n",
        "y, y.shape\n",
        "# To multiply (7,7) with (1,7) we need to transpose the second tensor\n",
        "z=torch.matmul(x,y.T)\n",
        "z\n"
      ],
      "metadata": {
        "colab": {
          "base_uri": "https://localhost:8080/"
        },
        "id": "bnsDct98iwN_",
        "outputId": "096add6b-bdef-4f95-9804-618297060ba8"
      },
      "execution_count": 9,
      "outputs": [
        {
          "output_type": "execute_result",
          "data": {
            "text/plain": [
              "tensor([[2.0504],\n",
              "        [1.6364],\n",
              "        [1.0075],\n",
              "        [1.9962],\n",
              "        [1.3870],\n",
              "        [1.4471],\n",
              "        [1.5334]])"
            ]
          },
          "metadata": {},
          "execution_count": 9
        }
      ]
    },
    {
      "cell_type": "markdown",
      "source": [
        "## 3. Set the random seed to 0 and do exercises 1 & 2 over again."
      ],
      "metadata": {
        "id": "VFvK5TQjj2G2"
      }
    },
    {
      "cell_type": "code",
      "source": [
        "seed = 0\n",
        "torch.manual_seed(seed)\n",
        "x=torch.rand(7,7)\n",
        "x\n",
        "\n",
        "torch.manual_seed(seed)\n",
        "y=torch.rand(1,7)\n",
        "\n",
        "z=torch.matmul(x,y.T)\n",
        "z"
      ],
      "metadata": {
        "colab": {
          "base_uri": "https://localhost:8080/"
        },
        "id": "GfNkEAdFlNdn",
        "outputId": "0f59790d-f44b-4a16-bc46-4c76aa98a668"
      },
      "execution_count": 15,
      "outputs": [
        {
          "output_type": "execute_result",
          "data": {
            "text/plain": [
              "tensor([[1.5985],\n",
              "        [1.1173],\n",
              "        [1.2741],\n",
              "        [1.6838],\n",
              "        [0.8279],\n",
              "        [1.0347],\n",
              "        [1.2498]])"
            ]
          },
          "metadata": {},
          "execution_count": 15
        }
      ]
    },
    {
      "cell_type": "markdown",
      "source": [
        "## 4.Speaking of random seeds, we saw how to set it with torch.manual_seed() but is there a GPU equivalent? If there is then, set the GPU random seed to `1234`"
      ],
      "metadata": {
        "id": "h7vtLHdLlfvk"
      }
    },
    {
      "cell_type": "code",
      "source": [
        "import torch\n",
        "random_seed = 1234\n",
        "torch.cuda.manual_seed(random_seed)\n",
        "\n",
        "x=torch.rand(7,7)\n",
        "x\n",
        "\n",
        "torch.cuda.manual_seed(random_seed)\n",
        "y=torch.rand(1,7)\n",
        "\n",
        "z=torch.matmul(x,y.T)\n",
        "z\n"
      ],
      "metadata": {
        "colab": {
          "base_uri": "https://localhost:8080/"
        },
        "id": "AEm0Vxk2l9iM",
        "outputId": "11e8d72e-58ff-4d15-8359-8a5ca110c6e9"
      },
      "execution_count": 3,
      "outputs": [
        {
          "output_type": "execute_result",
          "data": {
            "text/plain": [
              "tensor([[2.1670],\n",
              "        [2.3911],\n",
              "        [1.8846],\n",
              "        [2.1971],\n",
              "        [2.2878],\n",
              "        [2.1232],\n",
              "        [1.1475]])"
            ]
          },
          "metadata": {},
          "execution_count": 3
        }
      ]
    },
    {
      "cell_type": "markdown",
      "source": [
        "## 5. Create two random tensors of shape (2, 3) and send them both to the GPU (you'll need access to a GPU for this). Set torch.manual_seed(1234) when creating the tensors (this doesn't have to be the GPU random seed)."
      ],
      "metadata": {
        "id": "2kEUF3Onm9XB"
      }
    },
    {
      "cell_type": "code",
      "source": [
        "import torch\n",
        "torch.cuda.is_available()\n",
        "#device agnostic code\n",
        "device = \"cuda\" if torch.cuda.is_available() else \"cpu\"\n",
        "\n",
        "torch.manual_seed(1234)\n",
        "tensor1 = torch.rand(2,3)\n",
        "torch.manual_seed(1234)\n",
        "tensor2 = torch.rand(2,3)\n",
        "\n",
        "tensor1gpu = tensor1.to(device)\n",
        "tensor2gpu = tensor2.to(device)\n",
        "\n",
        "tensor1gpu, tensor2gpu\n"
      ],
      "metadata": {
        "colab": {
          "base_uri": "https://localhost:8080/"
        },
        "id": "BQvZZHxansGq",
        "outputId": "b488796e-d09b-481f-ef7c-da1b760a6d98"
      },
      "execution_count": 6,
      "outputs": [
        {
          "output_type": "execute_result",
          "data": {
            "text/plain": [
              "(tensor([[0.0290, 0.4019, 0.2598],\n",
              "         [0.3666, 0.0583, 0.7006]], device='cuda:0'),\n",
              " tensor([[0.0290, 0.4019, 0.2598],\n",
              "         [0.3666, 0.0583, 0.7006]], device='cuda:0'))"
            ]
          },
          "metadata": {},
          "execution_count": 6
        }
      ]
    },
    {
      "cell_type": "markdown",
      "source": [
        "## 6. Perform a matrix multiplication on the tensors you created in 5 (again, you may have to adjust the shapes of one of the tensors)."
      ],
      "metadata": {
        "id": "yoRqR9YPpa9N"
      }
    },
    {
      "cell_type": "code",
      "source": [
        "p = torch.matmul(tensor1gpu, tensor2gpu.T)\n",
        "p, p.shape"
      ],
      "metadata": {
        "colab": {
          "base_uri": "https://localhost:8080/"
        },
        "id": "U-uO-c5zqVGp",
        "outputId": "48937872-43c7-4822-a4d3-bd447dd68f49"
      },
      "execution_count": 12,
      "outputs": [
        {
          "output_type": "execute_result",
          "data": {
            "text/plain": [
              "(tensor([[0.2299, 0.2161],\n",
              "         [0.2161, 0.6287]], device='cuda:0'),\n",
              " torch.Size([2, 2]))"
            ]
          },
          "metadata": {},
          "execution_count": 12
        }
      ]
    },
    {
      "cell_type": "markdown",
      "source": [
        "## 7. Find the maximum and minimum values of the output of 6."
      ],
      "metadata": {
        "id": "-wKRK1tgqbGX"
      }
    },
    {
      "cell_type": "code",
      "source": [
        "p.max(), torch.min(p)"
      ],
      "metadata": {
        "colab": {
          "base_uri": "https://localhost:8080/"
        },
        "id": "GOoQy4pqqq8O",
        "outputId": "86c9ac42-be64-4308-fda4-d681d7fb6a9a"
      },
      "execution_count": 13,
      "outputs": [
        {
          "output_type": "execute_result",
          "data": {
            "text/plain": [
              "(tensor(0.6287, device='cuda:0'), tensor(0.2161, device='cuda:0'))"
            ]
          },
          "metadata": {},
          "execution_count": 13
        }
      ]
    },
    {
      "cell_type": "markdown",
      "source": [
        "## 8. Find the maximum and minimum index values of the output of 6"
      ],
      "metadata": {
        "id": "DEiBfCVvrCBh"
      }
    },
    {
      "cell_type": "code",
      "source": [
        "p.argmin(), torch.argmax(p), p.argmax()"
      ],
      "metadata": {
        "colab": {
          "base_uri": "https://localhost:8080/"
        },
        "id": "riVUWBVErMR-",
        "outputId": "a9d29cda-9d26-4e24-9ee7-be2c68f088ed"
      },
      "execution_count": 16,
      "outputs": [
        {
          "output_type": "execute_result",
          "data": {
            "text/plain": [
              "(tensor(1, device='cuda:0'),\n",
              " tensor(3, device='cuda:0'),\n",
              " tensor(3, device='cuda:0'))"
            ]
          },
          "metadata": {},
          "execution_count": 16
        }
      ]
    },
    {
      "cell_type": "markdown",
      "source": [
        "## 9. Make a random tensor with shape (1, 1, 1, 10) and then create a new tensor with all the 1 dimensions removed to be left with a tensor of shape (10). Set the seed to 7 when you create it and print out the first tensor and it's shape as well as the second tensor and it's shape."
      ],
      "metadata": {
        "id": "A9XBzWVcrP8n"
      }
    },
    {
      "cell_type": "code",
      "source": [
        "random_seed =7\n",
        "torch.manual_seed(random_seed)\n",
        "tensor1 = torch.rand(1,1,1,10)\n",
        "# tensor1, tensor1.shape\n",
        "\n",
        "tensor_squeezed = tensor1. squeeze()\n",
        "\n",
        "print(f\"Original tensor is {tensor1} and shape is {tensor1.shape}\")\n",
        "print(f\"Squeezed tensor is {tensor_squeezed} and shape is {tensor_squeezed.shape}\")\n",
        "# tensor_squeezed, tensor_squeezed.shape\n"
      ],
      "metadata": {
        "colab": {
          "base_uri": "https://localhost:8080/"
        },
        "id": "kbT5OaOarkx7",
        "outputId": "df0d705f-5491-48c2-bb2e-3b9bfe5e50e6"
      },
      "execution_count": 17,
      "outputs": [
        {
          "output_type": "stream",
          "name": "stdout",
          "text": [
            "Original tensor is tensor([[[[0.5349, 0.1988, 0.6592, 0.6569, 0.2328, 0.4251, 0.2071, 0.6297,\n",
            "           0.3653, 0.8513]]]]) and shape is torch.Size([1, 1, 1, 10])\n",
            "Squeezed tensor is tensor([0.5349, 0.1988, 0.6592, 0.6569, 0.2328, 0.4251, 0.2071, 0.6297, 0.3653,\n",
            "        0.8513]) and shape is torch.Size([10])\n"
          ]
        }
      ]
    },
    {
      "cell_type": "code",
      "source": [],
      "metadata": {
        "id": "4_tCxmDjy4GG"
      },
      "execution_count": null,
      "outputs": []
    }
  ]
}